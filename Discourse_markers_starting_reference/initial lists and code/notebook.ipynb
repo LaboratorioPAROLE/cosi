{
 "cells": [
  {
   "cell_type": "code",
   "execution_count": null,
   "metadata": {},
   "outputs": [],
   "source": [
    "# 1. Import libraries and load the datasets\n",
    "import pandas as pd\n",
    "\n",
    "# Load the data into DataFrames\n",
    "sd_df = pd.read_csv('unigrams.csv', sep=';', encoding='utf-8')\n",
    "bigrams_df = pd.read_csv('bigrams.csv', sep=';', encoding='utf-8')\n",
    "trigrams_df = pd.read_csv('trigrams.csv', sep=';', encoding='utf-8')"
   ]
  },
  {
   "cell_type": "code",
   "execution_count": null,
   "metadata": {},
   "outputs": [],
   "source": [
    "# 2. Create the SegnaliDisc dictionary\n",
    "SegnaliDisc = {}\n",
    "\n",
    "# Populate SegnaliDisc with unigrams\n",
    "for _, row in sd_df.iterrows():\n",
    "    word = row['word']\n",
    "    frequency = row['Frequency']\n",
    "    SegnaliDisc[word] = {\n",
    "        'frequency': frequency,\n",
    "        'ngrams': {}\n",
    "    }"
   ]
  },
  {
   "cell_type": "code",
   "execution_count": null,
   "metadata": {},
   "outputs": [],
   "source": [
    "# 3. Add bigrams to SegnaliDisc\n",
    "for _, row in bigrams_df.iterrows():\n",
    "    bigram = row['word']\n",
    "    bigram_frequency = row['Frequency']\n",
    "    word1, word2 = bigram.split()\n",
    "\n",
    "    added_to_sd = False\n",
    "    for word in sd_df['word']:\n",
    "        if word in [word1, word2]:\n",
    "            SegnaliDisc[word]['ngrams'][bigram] = bigram_frequency\n",
    "            added_to_sd = True\n",
    "\n",
    "    if not added_to_sd:\n",
    "        SegnaliDisc[bigram] = {\n",
    "            'frequency': bigram_frequency,\n",
    "            'ngrams': {}\n",
    "        }"
   ]
  },
  {
   "cell_type": "code",
   "execution_count": null,
   "metadata": {},
   "outputs": [],
   "source": [
    "# 4. Add trigrams to SegnaliDisc\n",
    "for _, row in trigrams_df.iterrows():\n",
    "    trigram = row['word']\n",
    "    trigram_frequency = row['Frequency']\n",
    "    word1, word2, word3 = trigram.split()\n",
    "    trigram_words = trigram.split()\n",
    "\n",
    "    added_to_bi = False\n",
    "    for bigram, bigram_data in SegnaliDisc.items():\n",
    "        if isinstance(bigram, str) and len(bigram.split()) == 2:\n",
    "            b_word1, b_word2 = bigram.split()\n",
    "            if b_word1 in trigram_words and b_word2 in trigram_words:\n",
    "                b_index1 = trigram_words.index(b_word1)\n",
    "                b_index2 = trigram_words.index(b_word2)\n",
    "                if b_index1 < b_index2:\n",
    "                    SegnaliDisc[bigram]['ngrams'][trigram] = trigram_frequency\n",
    "                    added_to_bi = True\n",
    "\n",
    "    added_to_sd_tri = False\n",
    "    for word in sd_df['word']:\n",
    "        if word in [word1, word2, word3]:\n",
    "            SegnaliDisc[word]['ngrams'][trigram] = trigram_frequency\n",
    "            added_to_sd_tri = True\n",
    "\n",
    "    if not added_to_bi and not added_to_sd_tri:\n",
    "        SegnaliDisc[trigram] = {\n",
    "            'frequency': trigram_frequency,\n",
    "            'ngrams': {}\n",
    "        }"
   ]
  },
  {
   "cell_type": "code",
   "execution_count": null,
   "metadata": {},
   "outputs": [],
   "source": [
    "# 5. Build the final DataFrame\n",
    "final_data = []\n",
    "for key, value in SegnaliDisc.items():\n",
    "    row = {'SegnaleDiscorsivo': key, 'frequenza': value['frequency']}\n",
    "    ngram_columns = list(value['ngrams'].keys())\n",
    "    ngram_frequencies = list(value['ngrams'].values())\n",
    "\n",
    "    for i, (ngram, freq) in enumerate(zip(ngram_columns, ngram_frequencies)):\n",
    "        row[f'ngram{i + 1}'] = ngram\n",
    "        row[f'ngram{i + 1}_freq'] = freq\n",
    "\n",
    "    for i in range(len(ngram_columns), 3):\n",
    "        row[f'ngram{i + 1}'] = pd.NA\n",
    "        row[f'ngram{i + 1}_freq'] = pd.NA\n",
    "\n",
    "    final_data.append(row)\n",
    "\n",
    "final_df = pd.DataFrame(final_data)"
   ]
  },
  {
   "cell_type": "code",
   "execution_count": null,
   "metadata": {},
   "outputs": [],
   "source": [
    "# 6. Save and display the result\n",
    "final_df.to_csv('Discourse_markers_stats.csv', encoding='utf-8', index=False)\n",
    "print(final_df)"
   ]
  }
 ],
 "metadata": {
  "kernelspec": {
   "display_name": "Python 3",
   "language": "python",
   "name": "python3"
  },
  "language_info": {
   "name": "python",
   "version": ""
  }
 },
 "nbformat": 4,
 "nbformat_minor": 5
}
