# 1. Import libraries and load the datasets

import pandas as pd

# Load the data into DataFrames
sd_df = pd.read_csv('unigrams.csv', sep=';', encoding='utf-8')
bigrams_df = pd.read_csv('bigrams.csv', sep=';', encoding='utf-8')
trigrams_df = pd.read_csv('trigrams.csv', sep=';', encoding='utf-8')

# 2. Create the SegnaliDisc dictionary

SegnaliDisc = {}

# Populate SegnaliDisc with unigrams
for _, row in sd_df.iterrows():
    word = row['word']
    frequency = row['Frequency']
    SegnaliDisc[word] = {
        'frequency': frequency,
        'ngrams': {}
    }

# 3. Add bigrams to SegnaliDisc

for _, row in bigrams_df.iterrows():
    bigram = row['word']
    bigram_frequency = row['Frequency']
    word1, word2 = bigram.split()  # Split the bigram into two words

    # Check if the bigram contains any unigram from sd
    added_to_sd = False
    for word in sd_df['word']:
        if word in [word1, word2]:
            SegnaliDisc[word]['ngrams'][bigram] = bigram_frequency
            added_to_sd = True

    # If the bigram wasn't added to any unigram, add it as a new entry
    if not added_to_sd:
        SegnaliDisc[bigram] = {
            'frequency': bigram_frequency,
            'ngrams': {}
        }


# 4. Add trigrams to SegnaliDisc

for _, row in trigrams_df.iterrows():
    trigram = row['word']
    trigram_frequency = row['Frequency']
    word1, word2, word3 = trigram.split()
    trigram_words = trigram.split()  # Split the trigram into three words

    # Check if the trigram matches any bigram in SegnaliDisc
    added_to_bi = False
    for bigram, bigram_data in SegnaliDisc.items():
        if isinstance(bigram, str) and len(bigram.split()) == 2:  # If it's a bigram
            b_word1, b_word2 = bigram.split()

            # Check if both bigram words appear in the trigram in the correct order
            if b_word1 in trigram_words and b_word2 in trigram_words:
                b_index1 = trigram_words.index(b_word1)
                b_index2 = trigram_words.index(b_word2)

                if b_index1 < b_index2:  # Correct order
                    SegnaliDisc[bigram]['ngrams'][trigram] = trigram_frequency
                    added_to_bi = True

    # If the trigram doesn't match a bigram but contains any unigram, add to unigram
    added_to_sd_tri = False
    for word in sd_df['word']:
        if word in [word1, word2, word3]:
            SegnaliDisc[word]['ngrams'][trigram] = trigram_frequency
            added_to_sd_tri = True

    # If trigram wasn't associated with any bigram or unigram, add as a new entry
    if not added_to_bi and not added_to_sd_tri:
        SegnaliDisc[trigram] = {
            'frequency': trigram_frequency,
            'ngrams': {}
        }


# 5. Build the final DataFrame with a dynamic number of ngram columns

final_data = []
for key, value in SegnaliDisc.items():
    row = {'SegnaleDiscorsivo': key, 'frequenza': value['frequency']}

    # Collect all ngrams and their frequencies
    ngram_columns = list(value['ngrams'].keys())
    ngram_frequencies = list(value['ngrams'].values())

    # Add each ngram and its frequency to the row
    for i, (ngram, freq) in enumerate(zip(ngram_columns, ngram_frequencies)):
        row[f'ngram{i + 1}'] = ngram
        row[f'ngram{i + 1}_freq'] = freq

    # If there are fewer than 3 ngrams, fill with NaN
    for i in range(len(ngram_columns), 3):  # Limit to a maximum of 3 ngrams
        row[f'ngram{i + 1}'] = pd.NA
        row[f'ngram{i + 1}_freq'] = pd.NA

    final_data.append(row)

# Create the final DataFrame
final_df = pd.DataFrame(final_data)


# 6. Save the final DataFrame to CSV

final_df.to_csv('Discourse_markers.csv', encoding="utf-8", index=False)

# Display the final DataFrame
print(final_df)
